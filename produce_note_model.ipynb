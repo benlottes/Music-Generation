{
 "cells": [
  {
   "cell_type": "code",
   "execution_count": 1,
   "source": [
    "import os\n",
    "import numpy as np\n",
    "from midi_util import read_midi\n",
    "from collections import Counter"
   ],
   "outputs": [],
   "metadata": {}
  },
  {
   "cell_type": "code",
   "execution_count": 6,
   "source": [
    "\n",
    "path = os.getcwd() + \"/data/\"\n",
    "print(\"Data path: \", path)\n",
    "\n",
    "midi_file_names = [i for i in os.listdir(path) if i.endswith(\".mid\")]\n",
    "print(\"# of Files Found: \", len(midi_file_names))\n",
    "\n",
    "note_data_by_file = np.array([read_midi(path+i) for i in midi_file_names])\n",
    "\n",
    "#list comp to flatten\n",
    "flattened_note_data = [element for note_ in note_data_by_file for element in note_]\n",
    "print(\"# of Notes Total: \", len(flattened_note_data))\n",
    "\n",
    "all_unique_notes = list(set(flattened_note_data))\n",
    "print(\"# of Unique Notes: \", len(all_unique_notes))"
   ],
   "outputs": [
    {
     "output_type": "stream",
     "name": "stdout",
     "text": [
      "Data path:  /Users/danielrjohnson/Documents/OneDrive/Programming/AIO/Music-Generation/data/\n",
      "# of Files Found:  0\n",
      "# of Notes Total:  0\n",
      "# of Unique Notes:  0\n"
     ]
    }
   ],
   "metadata": {}
  },
  {
   "cell_type": "code",
   "execution_count": null,
   "source": [
    "note_counts = dict(Counter(notes_))"
   ],
   "outputs": [],
   "metadata": {}
  }
 ],
 "metadata": {
  "orig_nbformat": 4,
  "language_info": {
   "name": "python",
   "version": "3.9.6",
   "mimetype": "text/x-python",
   "codemirror_mode": {
    "name": "ipython",
    "version": 3
   },
   "pygments_lexer": "ipython3",
   "nbconvert_exporter": "python",
   "file_extension": ".py"
  },
  "kernelspec": {
   "name": "python3",
   "display_name": "Python 3.9.6 64-bit ('ml': conda)"
  },
  "interpreter": {
   "hash": "e0289065fd70ee0301126581a02cae4c59a3b78f12d586ce6d502aba513ac9a8"
  }
 },
 "nbformat": 4,
 "nbformat_minor": 2
}