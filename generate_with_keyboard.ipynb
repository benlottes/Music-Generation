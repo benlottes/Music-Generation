{
 "cells": [
  {
   "cell_type": "code",
   "execution_count": 1,
   "metadata": {},
   "outputs": [
    {
     "name": "stdout",
     "output_type": "stream",
     "text": [
      "pygame 2.1.2 (SDL 2.0.18, Python 3.9.7)\n",
      "Hello from the pygame community. https://www.pygame.org/contribute.html\n",
      "Init Plugin\n",
      "Init Graph Optimizer\n",
      "Init Kernel\n"
     ]
    }
   ],
   "source": [
    "import time\n",
    "import pygame\n",
    "import pygame.midi\n",
    "import math\n",
    "import numpy as np\n",
    "from json import load\n",
    "\n",
    "import tensorflow as tf\n",
    "from keras.models import load_model\n",
    "\n",
    "from music21 import *\n",
    "from midi_util import produce_note_strings\n",
    "\n",
    "################################################################################################################\n",
    "duration_seq = [] "
   ]
  },
  {
   "cell_type": "code",
   "execution_count": null,
   "metadata": {},
   "outputs": [],
   "source": [
    "def print_midi_info():\n",
    "    pygame.midi.init()\n",
    "    for i in range(pygame.midi.get_count()):\n",
    "        print(pygame.midi.get_device_info(i))\n",
    "    \n",
    "    print(\"Default in: \", pygame.midi.get_default_input_id())\n",
    "    print(\"Default out: \", pygame.midi.get_default_output_id())\n",
    "    pygame.midi.quit()\n",
    "\n",
    "print_midi_info()"
   ]
  },
  {
   "cell_type": "code",
   "execution_count": null,
   "metadata": {},
   "outputs": [],
   "source": [
    "notes = ['C','C#','D','D#','E','F','F#','G','G#','A','A#','B']\n",
    "\n",
    "def num_to_note(num):\n",
    "    note = notes[num % 12]\n",
    "    note = note + str(math.ceil(num/12)-1)\n",
    "    return note\n"
   ]
  },
  {
   "cell_type": "code",
   "execution_count": null,
   "metadata": {},
   "outputs": [],
   "source": [
    "def take_input(in_id = None, out_id = None):\n",
    "    pygame.midi.init()\n",
    "\n",
    "    if not in_id:\n",
    "        in_id = pygame.midi.get_default_input_id()\n",
    "\n",
    "    if not out_id:\n",
    "        out_id = pygame.midi.get_default_output_id()\n",
    "\n",
    "    i = pygame.midi.Input(in_id)\n",
    "    o = pygame.midi.Output(out_id,latency=0,buffer_size=1)\n",
    "    o.set_instrument(0)\n",
    "\n",
    "    pygame.display.set_mode((1,1))\n",
    "    note_count = 0\n",
    "\n",
    "    #Turn these arrays into nupy.array()s like this: final_list = np.array(list(zip(note_seq,dur_seq)))\n",
    "                # Will need to map ints from keyboard to chars representing the note (ie 'C3' 'A-4' etc) \n",
    "                # then return it and in produce_note_model create a new function and map the chars to their \n",
    "                # respective ints before sending them to produce_song \n",
    "\n",
    "                # have to caulculate the differnece in the start and end of notes, round the result to the \n",
    "                # nearest musical \"pause\" then send the word along with the string for note (bpm 120)\n",
    "            #Chords?\n",
    "                # PLeASe nO\n",
    "        #I'll need to store the notes that have been pressed to check timestamp for release of the note\n",
    "\n",
    "\n",
    "        #A mid C is 60, so using mod 12 to get notes and octave is important.\n",
    "\n",
    "    #Format: [[pitch, start, stop], [pitch,start,stop], ...]\n",
    "    note_seq = [] \n",
    "    while note_count < 8:\n",
    "        if i.poll(): #if a note has been presseed\n",
    "            midi_event = i.read(1) #grab note played\n",
    "\n",
    "            if midi_event[0][0][0] == 144: #if note on\n",
    "                print(midi_event)\n",
    "                print(num_to_note(midi_event[0][0][1]))\n",
    "                note = midi_event[0][0][1]\n",
    "                time_stamp = midi_event[0][1] # in milliseconds I think\n",
    "\n",
    "                note_seq.append([note, time_stamp, 0])\n",
    "\n",
    "                o.note_on(note, 120)               \n",
    "\n",
    "            if midi_event[0][0][0] == 128: #if note off\n",
    "                print(midi_event)\n",
    "                note = midi_event[0][0][1]\n",
    "                time_stamp = midi_event[0][1]\n",
    "                for n in range(len(note_seq)-1, -1, -1):\n",
    "                    if(note_seq[n][0] == note and note_seq[n][2] == 0):\n",
    "                        note_seq[n][2] = time_stamp\n",
    "                o.note_off(note, 120)\n",
    "               \n",
    "                note_count += 1  #DOES NOT ACCOUNT FOR CHORDS\n",
    "\n",
    "    ################################################################################################################\n",
    "    for j in note_seq:\n",
    "        duration_seq.append(j[2]-j[1])\n",
    "\n",
    "    print(note_seq)\n",
    "    print(duration_seq)\n",
    "    time.sleep(1) #Give last note time to play\n",
    "    i.close()\n",
    "    o.close()\n",
    "    pygame.midi.quit()\n",
    "    pygame.quit()\n",
    "\n",
    "    return note_seq"
   ]
  },
  {
   "cell_type": "code",
   "execution_count": 2,
   "metadata": {},
   "outputs": [],
   "source": [
    "json_file = open(\"int_to_note.json\")\n",
    "\n",
    "int_to_note = load(json_file)\n",
    "note_to_int = {v: k for k, v in int_to_note.items()}"
   ]
  },
  {
   "cell_type": "code",
   "execution_count": null,
   "metadata": {},
   "outputs": [],
   "source": [
    "note_seq = take_input(out_id=4)"
   ]
  },
  {
   "cell_type": "code",
   "execution_count": null,
   "metadata": {},
   "outputs": [],
   "source": [
    "user_notes_int = []\n",
    "user_notes_str = []\n",
    "for note in note_seq:\n",
    "    pitch = note[0]\n",
    "    note_str = num_to_note(pitch)\n",
    "\n",
    "    if note_str not in note_to_int:\n",
    "        note_str = note_str[:-1] + \"3\" # B5 -> B3\n",
    "\n",
    "    user_notes_int.append(int(note_to_int[note_str]))\n",
    "    user_notes_str.append(note_str)\n",
    "\n",
    "print(user_notes_int)\n",
    "print(user_notes_str)"
   ]
  },
  {
   "cell_type": "code",
   "execution_count": 3,
   "metadata": {},
   "outputs": [],
   "source": [
    "### Mocking\n",
    "# user_notes_int=[33,4,33,4,33,27,33,33]"
   ]
  },
  {
   "cell_type": "code",
   "execution_count": 5,
   "metadata": {},
   "outputs": [
    {
     "name": "stdout",
     "output_type": "stream",
     "text": [
      "Complete sequence: ['F4', 'A4', 'F4', 'A4', 'F4', 'E4', 'F4', 'F4', 'D3', 'E4', 'E3', 'E-3', 'E-3', 'E-3', 'D5', 'D5']\n",
      "Predicted notes: ['D3', 'E4', 'E3', 'E-3', 'E-3', 'E-3', 'D5', 'D5']\n"
     ]
    },
    {
     "name": "stderr",
     "output_type": "stream",
     "text": [
      "2022-02-23 14:20:33.810079: I tensorflow/core/grappler/optimizers/custom_graph_optimizer_registry.cc:112] Plugin optimizer for device_type GPU is enabled.\n",
      "2022-02-23 14:20:33.838219: I tensorflow/core/grappler/optimizers/custom_graph_optimizer_registry.cc:112] Plugin optimizer for device_type GPU is enabled.\n"
     ]
    }
   ],
   "source": [
    "predicted_notes_str = produce_note_strings(user_notes_int, int_to_note, n_notes=8)\n",
    "print(\"Complete sequence:\", predicted_notes_str)\n",
    "print(\"Predicted notes:\", predicted_notes_str[len(user_notes_int):])"
   ]
  },
  {
   "cell_type": "code",
   "execution_count": null,
   "metadata": {},
   "outputs": [],
   "source": [
    "output_notes = []\n",
    "offset = 0\n",
    "for c, j in enumerate(duration_seq):\n",
    "    new_note = note.Note(int_to_note[c]) \n",
    "    new_note.offset += 1\n",
    "    new_note.duration = j\n",
    "    new_note.storedInstrument = instrument.Piano()\n",
    "    output_notes.append(new_note)\n",
    "\n",
    "print(output_notes)"
   ]
  }
 ],
 "metadata": {
  "interpreter": {
   "hash": "4398bec79e795b2d8e5cd4657e8b7fb4a845853669ef6414080868bc5bf1cc8b"
  },
  "kernelspec": {
   "display_name": "Python 3.9.9 64-bit (windows store)",
   "language": "python",
   "name": "python3"
  },
  "language_info": {
   "codemirror_mode": {
    "name": "ipython",
    "version": 3
   },
   "file_extension": ".py",
   "mimetype": "text/x-python",
   "name": "python",
   "nbconvert_exporter": "python",
   "pygments_lexer": "ipython3",
   "version": "3.9.7"
  },
  "orig_nbformat": 4
 },
 "nbformat": 4,
 "nbformat_minor": 2
}
