{
 "cells": [
  {
   "cell_type": "code",
   "execution_count": 149,
   "metadata": {},
   "outputs": [],
   "source": [
    "import time\n",
    "import pygame\n",
    "import pygame.midi\n",
    "import math\n",
    "import numpy\n",
    "from json import load\n",
    "\n",
    "import tensorflow as tf\n",
    "from keras.models import load_model\n",
    "\n",
    "from music21 import *\n",
    "\n",
    "################################################################################################################\n",
    "duration_seq = [] "
   ]
  },
  {
   "cell_type": "code",
   "execution_count": 150,
   "metadata": {},
   "outputs": [
    {
     "name": "stdout",
     "output_type": "stream",
     "text": [
      "(b'MMSystem', b'Microsoft MIDI Mapper', 0, 1, 0)\n",
      "(b'MMSystem', b'Microsoft GS Wavetable Synth', 0, 1, 0)\n",
      "Default in:  -1\n",
      "Default out:  0\n"
     ]
    }
   ],
   "source": [
    "def print_midi_info():\n",
    "    pygame.midi.init()\n",
    "    for i in range(pygame.midi.get_count()):\n",
    "        print(pygame.midi.get_device_info(i))\n",
    "    \n",
    "    print(\"Default in: \", pygame.midi.get_default_input_id())\n",
    "    print(\"Default out: \", pygame.midi.get_default_output_id())\n",
    "    pygame.midi.quit()\n",
    "\n",
    "print_midi_info()"
   ]
  },
  {
   "cell_type": "code",
   "execution_count": 151,
   "metadata": {},
   "outputs": [],
   "source": [
    "notes = ['C','C#','D','D#','E','F','F#','G','G#','A','A#','B']\n",
    "\n",
    "def num_to_note(num):\n",
    "    note = notes[num % 12]\n",
    "    note = note + str(math.ceil(num/12)-1)\n",
    "    return note\n"
   ]
  },
  {
   "cell_type": "code",
   "execution_count": 152,
   "metadata": {},
   "outputs": [
    {
     "name": "stdout",
     "output_type": "stream",
     "text": [
      "Model: \"model\"\n",
      "_________________________________________________________________\n",
      " Layer (type)                Output Shape              Param #   \n",
      "=================================================================\n",
      " input_1 (InputLayer)        [(None, 8, 1)]            0         \n",
      "                                                                 \n",
      " dense (Dense)               (None, 8, 128)            256       \n",
      "                                                                 \n",
      " lstm (LSTM)                 (None, 128)               131584    \n",
      "                                                                 \n",
      " dense_1 (Dense)             (None, 128)               16512     \n",
      "                                                                 \n",
      " dense_2 (Dense)             (None, 40)                5160      \n",
      "                                                                 \n",
      "=================================================================\n",
      "Total params: 153,512\n",
      "Trainable params: 153,512\n",
      "Non-trainable params: 0\n",
      "_________________________________________________________________\n",
      "input_1 [<keras.engine.node.Node object at 0x0000021F994754E0>] [<keras.engine.node.Node object at 0x0000021F95704280>]\n",
      "dense [<keras.engine.node.Node object at 0x0000021F95704280>] [<keras.engine.node.Node object at 0x0000021F99469330>]\n",
      "lstm [<keras.engine.node.Node object at 0x0000021F99469330>] [<keras.engine.node.Node object at 0x0000021F9946B850>]\n",
      "dense_1 [<keras.engine.node.Node object at 0x0000021F9946B850>] [<keras.engine.node.Node object at 0x0000021F9A639DB0>]\n",
      "dense_2 [<keras.engine.node.Node object at 0x0000021F9A639DB0>] []\n"
     ]
    }
   ],
   "source": [
    "def take_input(in_id = None, out_id = None):\n",
    "    pygame.midi.init()\n",
    "\n",
    "    if not in_id:\n",
    "        in_id = pygame.midi.get_default_input_id()\n",
    "\n",
    "    if not out_id:\n",
    "        out_id = pygame.midi.get_default_output_id()\n",
    "\n",
    "    i = pygame.midi.Input(in_id)\n",
    "    o = pygame.midi.Output(out_id,latency=0,buffer_size=1)\n",
    "    o.set_instrument(0)\n",
    "\n",
    "    pygame.display.set_mode((1,1))\n",
    "    note_count = 0\n",
    "\n",
    "    #Turn these arrays into nupy.array()s like this: final_list = np.array(list(zip(note_seq,dur_seq)))\n",
    "                # Will need to map ints from keyboard to chars representing the note (ie 'C3' 'A-4' etc) \n",
    "                # then return it and in produce_note_model create a new function and map the chars to their \n",
    "                # respective ints before sending them to produce_song \n",
    "\n",
    "                # have to caulculate the differnece in the start and end of notes, round the result to the \n",
    "                # nearest musical \"pause\" then send the word along with the string for note (bpm 120)\n",
    "            #Chords?\n",
    "                # PLeASe nO\n",
    "        #I'll need to store the notes that have been pressed to check timestamp for release of the note\n",
    "\n",
    "\n",
    "        #A mid C is 60, so using mod 12 to get notes and octave is important.\n",
    "\n",
    "    #Format: [[pitch, start, stop], [pitch,start,stop], ...]\n",
    "    note_seq = [] \n",
    "    while note_count < 10:\n",
    "        if i.poll(): #if a note has been presseed\n",
    "            midi_event = i.read(1) #grab note played\n",
    "\n",
    "            if midi_event[0][0][0] == 144: #if note on\n",
    "                print(midi_event)\n",
    "                print(num_to_note(midi_event[0][0][1]))\n",
    "                note = midi_event[0][0][1]\n",
    "                time_stamp = midi_event[0][1] # in milliseconds I think\n",
    "\n",
    "                note_seq.append([note, time_stamp, 0])\n",
    "\n",
    "                o.note_on(note, 120)               \n",
    "\n",
    "            if midi_event[0][0][0] == 128: #if note off\n",
    "                print(midi_event)\n",
    "                note = midi_event[0][0][1]\n",
    "                time_stamp = midi_event[0][1]\n",
    "                for n in range(len(note_seq)-1, -1, -1):\n",
    "                    if(note_seq[n][0] == note and note_seq[n][2] == 0):\n",
    "                        note_seq[n][2] = time_stamp\n",
    "                o.note_off(note, 120)\n",
    "               \n",
    "                note_count += 1  #DOES NOT ACCOUNT FOR CHORDS\n",
    "\n",
    "    ################################################################################################################\n",
    "    for i in note_seq:\n",
    "        duration_seq.append(note_seq[i][2]-note_seq[i,1])\n",
    "\n",
    "            #o.write_short(midi_event[0][0][0], midi_event[0][0][1], 120) #write start/stop, note, velocity to output\n",
    "    print(note_seq)\n",
    "    time.sleep(1) #Give last note time to play\n",
    "    i.close()\n",
    "    o.close()\n",
    "    pygame.midi.quit()\n",
    "    pygame.quit()\n",
    "\n",
    "#take_input(out_id=4)\n",
    "\n",
    "\n",
    "\n",
    "def read_model():\n",
    "    existent_model = load_model('models/best_model_note.h5')\n",
    "    existent_model.summary()\n",
    "    \n",
    "\n",
    "read_model()\n",
    "int_to_note = loads(\"int_to_note.json\")\n",
    "output_notes = []\n",
    "for i in duration_seq:\n",
    "    new_note = note.Note(int_to_note[i]) \n",
    "    new_note.offset = i\n",
    "    new_note.duration = duration_seq\n",
    "    new_note.storedInstrument = instrument.Piano()\n",
    "    output_notes.append(new_note)\n"
   ]
  },
  {
   "cell_type": "code",
   "execution_count": null,
   "metadata": {},
   "outputs": [],
   "source": []
  }
 ],
 "metadata": {
  "interpreter": {
   "hash": "4398bec79e795b2d8e5cd4657e8b7fb4a845853669ef6414080868bc5bf1cc8b"
  },
  "kernelspec": {
   "display_name": "Python 3.9.9 64-bit (windows store)",
   "language": "python",
   "name": "python3"
  },
  "language_info": {
   "codemirror_mode": {
    "name": "ipython",
    "version": 3
   },
   "file_extension": ".py",
   "mimetype": "text/x-python",
   "name": "python",
   "nbconvert_exporter": "python",
   "pygments_lexer": "ipython3",
   "version": "3.10.1"
  },
  "orig_nbformat": 4
 },
 "nbformat": 4,
 "nbformat_minor": 2
}
