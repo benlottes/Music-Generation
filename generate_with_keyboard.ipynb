{
 "cells": [
  {
   "cell_type": "code",
   "execution_count": 1,
   "metadata": {},
   "outputs": [
    {
     "name": "stdout",
     "output_type": "stream",
     "text": [
      "pygame 2.1.2 (SDL 2.0.18, Python 3.9.3)\n",
      "Hello from the pygame community. https://www.pygame.org/contribute.html\n"
     ]
    }
   ],
   "source": [
    "import time\n",
    "import pygame\n",
    "import pygame.midi\n",
    "import numpy"
   ]
  },
  {
   "cell_type": "code",
   "execution_count": 2,
   "metadata": {},
   "outputs": [
    {
     "name": "stdout",
     "output_type": "stream",
     "text": [
      "(b'MMSystem', b'Microsoft MIDI Mapper', 0, 1, 0)\n",
      "(b'MMSystem', b'AKM322', 1, 0, 0)\n",
      "(b'MMSystem', b'CoolSoft MIDIMapper', 0, 1, 0)\n",
      "(b'MMSystem', b'Microsoft GS Wavetable Synth', 0, 1, 0)\n",
      "(b'MMSystem', b'VirtualMIDISynth #1', 0, 1, 0)\n",
      "(b'MMSystem', b'AKM322', 0, 1, 0)\n",
      "Default in:  1\n",
      "Default out:  0\n"
     ]
    }
   ],
   "source": [
    "def print_midi_info():\n",
    "    pygame.midi.init()\n",
    "    for i in range(pygame.midi.get_count()):\n",
    "        print(pygame.midi.get_device_info(i))\n",
    "    \n",
    "    print(\"Default in: \", pygame.midi.get_default_input_id())\n",
    "    print(\"Default out: \", pygame.midi.get_default_output_id())\n",
    "    pygame.midi.quit()\n",
    "\n",
    "print_midi_info()"
   ]
  },
  {
   "cell_type": "code",
   "execution_count": 3,
   "metadata": {},
   "outputs": [
    {
     "name": "stdout",
     "output_type": "stream",
     "text": [
      "[[[144, 59, 62, 0], 86687]]\n",
      "[[[144, 52, 12, 0], 87171]]\n",
      "[[[144, 59, 88, 0], 87537]]\n",
      "[[[144, 52, 69, 0], 87800]]\n",
      "[[[144, 60, 96, 0], 87983]]\n",
      "[[[144, 52, 85, 0], 88198]]\n",
      "[[[144, 59, 102, 0], 88359]]\n",
      "[[[144, 60, 90, 0], 88974]]\n",
      "[[[144, 59, 73, 0], 89542]]\n",
      "[[[144, 52, 63, 0], 89931]]\n",
      "[[[144, 60, 102, 0], 90084]]\n",
      "[[[144, 59, 127, 0], 90377]]\n",
      "[[[144, 60, 127, 0], 90641]]\n",
      "[[[144, 53, 90, 0], 90773]]\n",
      "[[[144, 59, 127, 0], 90923]]\n",
      "[[[144, 53, 102, 0], 91054]]\n",
      "[[[144, 60, 127, 0], 91189]]\n"
     ]
    },
    {
     "ename": "KeyboardInterrupt",
     "evalue": "",
     "output_type": "error",
     "traceback": [
      "\u001b[1;31m---------------------------------------------------------------------------\u001b[0m",
      "\u001b[1;31mKeyboardInterrupt\u001b[0m                         Traceback (most recent call last)",
      "\u001b[1;32m~\\AppData\\Local\\Temp/ipykernel_6712/3677332892.py\u001b[0m in \u001b[0;36m<module>\u001b[1;34m\u001b[0m\n\u001b[0;32m     58\u001b[0m     \u001b[0mpygame\u001b[0m\u001b[1;33m.\u001b[0m\u001b[0mquit\u001b[0m\u001b[1;33m(\u001b[0m\u001b[1;33m)\u001b[0m\u001b[1;33m\u001b[0m\u001b[1;33m\u001b[0m\u001b[0m\n\u001b[0;32m     59\u001b[0m \u001b[1;33m\u001b[0m\u001b[0m\n\u001b[1;32m---> 60\u001b[1;33m \u001b[0mtake_input\u001b[0m\u001b[1;33m(\u001b[0m\u001b[0mout_id\u001b[0m\u001b[1;33m=\u001b[0m\u001b[1;36m4\u001b[0m\u001b[1;33m)\u001b[0m\u001b[1;33m\u001b[0m\u001b[1;33m\u001b[0m\u001b[0m\n\u001b[0m",
      "\u001b[1;32m~\\AppData\\Local\\Temp/ipykernel_6712/3677332892.py\u001b[0m in \u001b[0;36mtake_input\u001b[1;34m(in_id, out_id)\u001b[0m\n\u001b[0;32m     33\u001b[0m \u001b[1;33m\u001b[0m\u001b[0m\n\u001b[0;32m     34\u001b[0m     \u001b[1;32mwhile\u001b[0m \u001b[0mnote_count\u001b[0m \u001b[1;33m<\u001b[0m \u001b[1;36m50\u001b[0m\u001b[1;33m:\u001b[0m\u001b[1;33m\u001b[0m\u001b[1;33m\u001b[0m\u001b[0m\n\u001b[1;32m---> 35\u001b[1;33m         \u001b[1;32mif\u001b[0m \u001b[0mi\u001b[0m\u001b[1;33m.\u001b[0m\u001b[0mpoll\u001b[0m\u001b[1;33m(\u001b[0m\u001b[1;33m)\u001b[0m\u001b[1;33m:\u001b[0m \u001b[1;31m#if a note has been presseed\u001b[0m\u001b[1;33m\u001b[0m\u001b[1;33m\u001b[0m\u001b[0m\n\u001b[0m\u001b[0;32m     36\u001b[0m             \u001b[0mmidi_event\u001b[0m \u001b[1;33m=\u001b[0m \u001b[0mi\u001b[0m\u001b[1;33m.\u001b[0m\u001b[0mread\u001b[0m\u001b[1;33m(\u001b[0m\u001b[1;36m1\u001b[0m\u001b[1;33m)\u001b[0m \u001b[1;31m#grab note played\u001b[0m\u001b[1;33m\u001b[0m\u001b[1;33m\u001b[0m\u001b[0m\n\u001b[0;32m     37\u001b[0m \u001b[1;33m\u001b[0m\u001b[0m\n",
      "\u001b[1;32m~\\AppData\\Roaming\\Python\\Python39\\site-packages\\pygame\\midi.py\u001b[0m in \u001b[0;36mpoll\u001b[1;34m(self)\u001b[0m\n\u001b[0;32m    332\u001b[0m         \"\"\"\n\u001b[0;32m    333\u001b[0m         \u001b[0m_check_init\u001b[0m\u001b[1;33m(\u001b[0m\u001b[1;33m)\u001b[0m\u001b[1;33m\u001b[0m\u001b[1;33m\u001b[0m\u001b[0m\n\u001b[1;32m--> 334\u001b[1;33m         \u001b[0mself\u001b[0m\u001b[1;33m.\u001b[0m\u001b[0m_check_open\u001b[0m\u001b[1;33m(\u001b[0m\u001b[1;33m)\u001b[0m\u001b[1;33m\u001b[0m\u001b[1;33m\u001b[0m\u001b[0m\n\u001b[0m\u001b[0;32m    335\u001b[0m \u001b[1;33m\u001b[0m\u001b[0m\n\u001b[0;32m    336\u001b[0m         \u001b[0mresult\u001b[0m \u001b[1;33m=\u001b[0m \u001b[0mself\u001b[0m\u001b[1;33m.\u001b[0m\u001b[0m_input\u001b[0m\u001b[1;33m.\u001b[0m\u001b[0mPoll\u001b[0m\u001b[1;33m(\u001b[0m\u001b[1;33m)\u001b[0m\u001b[1;33m\u001b[0m\u001b[1;33m\u001b[0m\u001b[0m\n",
      "\u001b[1;31mKeyboardInterrupt\u001b[0m: "
     ]
    }
   ],
   "source": [
    "def take_input(in_id = None, out_id = None):\n",
    "    pygame.midi.init()\n",
    "\n",
    "    if not in_id:\n",
    "        in_id = pygame.midi.get_default_input_id()\n",
    "\n",
    "    if not out_id:\n",
    "        out_id = pygame.midi.get_default_output_id()\n",
    "\n",
    "    i = pygame.midi.Input(in_id)\n",
    "    o = pygame.midi.Output(out_id,latency=0,buffer_size=1)\n",
    "    o.set_instrument(0)\n",
    "\n",
    "    pygame.display.set_mode((1,1))\n",
    "    note_count = 0\n",
    "\n",
    "    #Turn these arrays into nupy.array()s like this: final_list = np.array(list(zip(note_seq,dur_seq)))\n",
    "                # Will need to map ints from keyboard to chars representing the note (ie 'C3' 'A-4' etc) \n",
    "                # then return it and in produce_note_model create a new function and map the chars to their \n",
    "                # respective ints before sending them to produce_song \n",
    "\n",
    "                # have to caulculate the differnece in the start and end of notes, round the result to the \n",
    "                # nearest musical \"pause\" then send the word along with the string for note (bpm 120)\n",
    "            #Chords?\n",
    "                # PLeASe nO\n",
    "        #I'll need to store the notes that have been pressed to check timestamp for release of the note\n",
    "\n",
    "\n",
    "        #A mid C is 60, so using mod 12 to get notes and octave is important.\n",
    "    note_seq = [] \n",
    "    dur_seq = []\n",
    "\n",
    "    while note_count < 10:                \n",
    "        if i.poll(): #if a note has been presseed\n",
    "            midi_event = i.read(1) #grab note played\n",
    "\n",
    "            if midi_event[0][0][0] == 144: #if note on\n",
    "                print(midi_event)\n",
    "                note = midi_event[0][0][1]\n",
    "                time_stamp = midi_event[0][1] # in milliseconds I think\n",
    "                o.note_on(note, 120)\n",
    "               \n",
    "\n",
    "            if midi_event[0][0][0] == 128: #if note off\n",
    "                note = midi_event[0][0][1]\n",
    "                time_stamp = midi_event[0][1]\n",
    "                o.note_off(note, 120)\n",
    "               \n",
    "                note_count += 1  #DOES NOT ACCOUNT FOR CHORDS\n",
    "\n",
    "            #o.write_short(midi_event[0][0][0], midi_event[0][0][1], 120) #write start/stop, note, velocity to output\n",
    "\n",
    "    time.sleep(1) #Give last note time to play\n",
    "    i.close()\n",
    "    o.close()\n",
    "    pygame.midi.quit()\n",
    "    pygame.quit()\n",
    "\n",
    "take_input(out_id=4)"
   ]
  },
  {
   "cell_type": "code",
   "execution_count": null,
   "metadata": {},
   "outputs": [],
   "source": []
  }
 ],
 "metadata": {
  "interpreter": {
   "hash": "4398bec79e795b2d8e5cd4657e8b7fb4a845853669ef6414080868bc5bf1cc8b"
  },
  "kernelspec": {
   "display_name": "Python 3.9.9 64-bit (windows store)",
   "language": "python",
   "name": "python3"
  },
  "language_info": {
   "codemirror_mode": {
    "name": "ipython",
    "version": 3
   },
   "file_extension": ".py",
   "mimetype": "text/x-python",
   "name": "python",
   "nbconvert_exporter": "python",
   "pygments_lexer": "ipython3",
   "version": "3.9.3"
  },
  "orig_nbformat": 4
 },
 "nbformat": 4,
 "nbformat_minor": 2
}
