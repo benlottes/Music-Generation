{
 "cells": [
  {
   "cell_type": "code",
   "execution_count": 48,
   "metadata": {},
   "outputs": [],
   "source": [
    "import time\n",
    "import pygame\n",
    "import pygame.midi\n",
    "import math\n",
    "import numpy as np\n",
    "from json import load\n",
    "\n",
    "import tensorflow as tf\n",
    "from keras.models import load_model\n",
    "\n",
    "from music21 import *\n",
    "from midi_util import produce_song\n",
    "\n",
    "################################################################################################################\n",
    "duration_seq = [] "
   ]
  },
  {
   "cell_type": "code",
   "execution_count": 49,
   "metadata": {},
   "outputs": [
    {
     "name": "stdout",
     "output_type": "stream",
     "text": [
      "(b'MMSystem', b'Microsoft MIDI Mapper', 0, 1, 0)\n",
      "(b'MMSystem', b'AKM322', 1, 0, 0)\n",
      "(b'MMSystem', b'CoolSoft MIDIMapper', 0, 1, 0)\n",
      "(b'MMSystem', b'Microsoft GS Wavetable Synth', 0, 1, 0)\n",
      "(b'MMSystem', b'VirtualMIDISynth #1', 0, 1, 0)\n",
      "(b'MMSystem', b'AKM322', 0, 1, 0)\n",
      "Default in:  1\n",
      "Default out:  0\n"
     ]
    }
   ],
   "source": [
    "def print_midi_info():\n",
    "    pygame.midi.init()\n",
    "    for i in range(pygame.midi.get_count()):\n",
    "        print(pygame.midi.get_device_info(i))\n",
    "    \n",
    "    print(\"Default in: \", pygame.midi.get_default_input_id())\n",
    "    print(\"Default out: \", pygame.midi.get_default_output_id())\n",
    "    pygame.midi.quit()\n",
    "\n",
    "print_midi_info()"
   ]
  },
  {
   "cell_type": "code",
   "execution_count": 50,
   "metadata": {},
   "outputs": [],
   "source": [
    "notes = ['C','C#','D','D#','E','F','F#','G','G#','A','A#','B']\n",
    "\n",
    "def num_to_note(num):\n",
    "    note = notes[num % 12]\n",
    "    note = note + str(math.ceil(num/12)-1)\n",
    "    return note\n"
   ]
  },
  {
   "cell_type": "code",
   "execution_count": 51,
   "metadata": {},
   "outputs": [],
   "source": [
    "def take_input(in_id = None, out_id = None):\n",
    "    pygame.midi.init()\n",
    "\n",
    "    if not in_id:\n",
    "        in_id = pygame.midi.get_default_input_id()\n",
    "\n",
    "    if not out_id:\n",
    "        out_id = pygame.midi.get_default_output_id()\n",
    "\n",
    "    i = pygame.midi.Input(in_id)\n",
    "    o = pygame.midi.Output(out_id,latency=0,buffer_size=1)\n",
    "    o.set_instrument(0)\n",
    "\n",
    "    pygame.display.set_mode((1,1))\n",
    "    note_count = 0\n",
    "\n",
    "    #Turn these arrays into nupy.array()s like this: final_list = np.array(list(zip(note_seq,dur_seq)))\n",
    "                # Will need to map ints from keyboard to chars representing the note (ie 'C3' 'A-4' etc) \n",
    "                # then return it and in produce_note_model create a new function and map the chars to their \n",
    "                # respective ints before sending them to produce_song \n",
    "\n",
    "                # have to caulculate the differnece in the start and end of notes, round the result to the \n",
    "                # nearest musical \"pause\" then send the word along with the string for note (bpm 120)\n",
    "            #Chords?\n",
    "                # PLeASe nO\n",
    "        #I'll need to store the notes that have been pressed to check timestamp for release of the note\n",
    "\n",
    "\n",
    "        #A mid C is 60, so using mod 12 to get notes and octave is important.\n",
    "\n",
    "    #Format: [[pitch, start, stop], [pitch,start,stop], ...]\n",
    "    note_seq = [] \n",
    "    while note_count < 8:\n",
    "        if i.poll(): #if a note has been presseed\n",
    "            midi_event = i.read(1) #grab note played\n",
    "\n",
    "            if midi_event[0][0][0] == 144: #if note on\n",
    "                print(midi_event)\n",
    "                print(num_to_note(midi_event[0][0][1]))\n",
    "                note = midi_event[0][0][1]\n",
    "                time_stamp = midi_event[0][1] # in milliseconds I think\n",
    "\n",
    "                note_seq.append([note, time_stamp, 0])\n",
    "\n",
    "                o.note_on(note, 120)               \n",
    "\n",
    "            if midi_event[0][0][0] == 128: #if note off\n",
    "                print(midi_event)\n",
    "                note = midi_event[0][0][1]\n",
    "                time_stamp = midi_event[0][1]\n",
    "                for n in range(len(note_seq)-1, -1, -1):\n",
    "                    if(note_seq[n][0] == note and note_seq[n][2] == 0):\n",
    "                        note_seq[n][2] = time_stamp\n",
    "                o.note_off(note, 120)\n",
    "               \n",
    "                note_count += 1  #DOES NOT ACCOUNT FOR CHORDS\n",
    "\n",
    "    ################################################################################################################\n",
    "    for j in note_seq:\n",
    "        duration_seq.append(j[2]-j[1])\n",
    "\n",
    "    print(note_seq)\n",
    "    print(duration_seq)\n",
    "    time.sleep(1) #Give last note time to play\n",
    "    i.close()\n",
    "    o.close()\n",
    "    pygame.midi.quit()\n",
    "    pygame.quit()\n",
    "\n",
    "    return note_seq"
   ]
  },
  {
   "cell_type": "code",
   "execution_count": 52,
   "metadata": {},
   "outputs": [],
   "source": [
    "def read_model():\n",
    "    existent_model = load_model('models/best_model_note.h5')\n",
    "    return existent_model"
   ]
  },
  {
   "cell_type": "code",
   "execution_count": 53,
   "metadata": {},
   "outputs": [
    {
     "name": "stdout",
     "output_type": "stream",
     "text": [
      "[[[144, 69, 66, 0], 260084]]\n",
      "A5\n",
      "[[[128, 69, 0, 0], 260399]]\n",
      "[[[144, 67, 88, 0], 260823]]\n",
      "G5\n",
      "[[[128, 67, 0, 0], 261141]]\n",
      "[[[144, 65, 46, 0], 261668]]\n",
      "F5\n",
      "[[[128, 65, 0, 0], 262009]]\n",
      "[[[144, 64, 52, 0], 262533]]\n",
      "E5\n",
      "[[[128, 64, 0, 0], 262873]]\n",
      "[[[144, 62, 79, 0], 263348]]\n",
      "D5\n",
      "[[[128, 62, 0, 0], 263683]]\n",
      "[[[144, 60, 66, 0], 264167]]\n",
      "C4\n",
      "[[[128, 60, 0, 0], 264464]]\n",
      "[[[144, 59, 82, 0], 264925]]\n",
      "B4\n",
      "[[[128, 59, 0, 0], 265241]]\n",
      "[[[144, 57, 66, 0], 265837]]\n",
      "A4\n",
      "[[[128, 57, 0, 0], 266159]]\n",
      "[[69, 260084, 260399], [67, 260823, 261141], [65, 261668, 262009], [64, 262533, 262873], [62, 263348, 263683], [60, 264167, 264464], [59, 264925, 265241], [57, 265837, 266159]]\n",
      "[315, 318, 341, 340, 335, 297, 316, 322]\n",
      "[5, 39, 34, 28, 22, 17, 12, 4]\n",
      "['A5', 'G5', 'F5', 'E5', 'D5', 'C4', 'B4', 'A4']\n"
     ]
    }
   ],
   "source": [
    "json_file = open(\"int_to_note.json\")\n",
    "\n",
    "int_to_note = load(json_file)\n",
    "note_to_int = {v: k for k, v in int_to_note.items()}\n",
    "\n",
    "note_seq = take_input(out_id=4)\n",
    "\n",
    "user_notes_int = []\n",
    "user_notes_str = []\n",
    "for note in note_seq:\n",
    "    pitch = note[0]\n",
    "    note_str = num_to_note(pitch)\n",
    "    user_notes_int.append(int(note_to_int[note_str]))\n",
    "    user_notes_str.append(note_str)\n",
    "\n",
    "print(user_notes_int)\n",
    "print(user_notes_str)"
   ]
  },
  {
   "cell_type": "code",
   "execution_count": 54,
   "metadata": {},
   "outputs": [
    {
     "ename": "KeyError",
     "evalue": "5",
     "output_type": "error",
     "traceback": [
      "\u001b[1;31m---------------------------------------------------------------------------\u001b[0m",
      "\u001b[1;31mKeyError\u001b[0m                                  Traceback (most recent call last)",
      "\u001b[1;32m~\\AppData\\Local\\Temp/ipykernel_9880/4177944730.py\u001b[0m in \u001b[0;36m<module>\u001b[1;34m\u001b[0m\n\u001b[0;32m      1\u001b[0m \u001b[0mmodel\u001b[0m \u001b[1;33m=\u001b[0m \u001b[0mread_model\u001b[0m\u001b[1;33m(\u001b[0m\u001b[1;33m)\u001b[0m\u001b[1;33m\u001b[0m\u001b[1;33m\u001b[0m\u001b[0m\n\u001b[0;32m      2\u001b[0m \u001b[1;33m\u001b[0m\u001b[0m\n\u001b[1;32m----> 3\u001b[1;33m predicted_notes_int = produce_song(np.array(user_notes_int), np.array([0] * len(user_notes_int)), int_to_note, \n\u001b[0m\u001b[0;32m      4\u001b[0m                 int_to_note, n_notes=8, midi_file_path=\"songs/song.mid\")\n\u001b[0;32m      5\u001b[0m \u001b[1;33m\u001b[0m\u001b[0m\n",
      "\u001b[1;32mc:\\Users\\bencl\\Desktop\\Juinor_sem1\\AI Club\\Music\\Music-Generation\\midi_util.py\u001b[0m in \u001b[0;36mproduce_song\u001b[1;34m(initial_note_seq, initial_dur_seq, x_int_to_note, x_int_to_dur, n_notes, midi_file_path)\u001b[0m\n\u001b[0;32m    126\u001b[0m     \u001b[1;31m# print(duration_predictions)\u001b[0m\u001b[1;33m\u001b[0m\u001b[1;33m\u001b[0m\u001b[1;33m\u001b[0m\u001b[0m\n\u001b[0;32m    127\u001b[0m \u001b[1;33m\u001b[0m\u001b[0m\n\u001b[1;32m--> 128\u001b[1;33m     \u001b[0mpredicted_notes\u001b[0m \u001b[1;33m=\u001b[0m \u001b[1;33m[\u001b[0m\u001b[0mx_int_to_note\u001b[0m\u001b[1;33m[\u001b[0m\u001b[0mi\u001b[0m\u001b[1;33m]\u001b[0m \u001b[1;32mfor\u001b[0m \u001b[0mi\u001b[0m \u001b[1;32min\u001b[0m \u001b[0mnote_predictions\u001b[0m\u001b[1;33m]\u001b[0m\u001b[1;33m\u001b[0m\u001b[1;33m\u001b[0m\u001b[0m\n\u001b[0m\u001b[0;32m    129\u001b[0m     \u001b[0mpredicted_durations\u001b[0m \u001b[1;33m=\u001b[0m \u001b[1;33m[\u001b[0m\u001b[0mx_int_to_dur\u001b[0m\u001b[1;33m[\u001b[0m\u001b[0mi\u001b[0m\u001b[1;33m]\u001b[0m \u001b[1;32mfor\u001b[0m \u001b[0mi\u001b[0m \u001b[1;32min\u001b[0m \u001b[0mduration_predictions\u001b[0m\u001b[1;33m]\u001b[0m\u001b[1;33m\u001b[0m\u001b[1;33m\u001b[0m\u001b[0m\n\u001b[0;32m    130\u001b[0m \u001b[1;33m\u001b[0m\u001b[0m\n",
      "\u001b[1;32mc:\\Users\\bencl\\Desktop\\Juinor_sem1\\AI Club\\Music\\Music-Generation\\midi_util.py\u001b[0m in \u001b[0;36m<listcomp>\u001b[1;34m(.0)\u001b[0m\n\u001b[0;32m    126\u001b[0m     \u001b[1;31m# print(duration_predictions)\u001b[0m\u001b[1;33m\u001b[0m\u001b[1;33m\u001b[0m\u001b[1;33m\u001b[0m\u001b[0m\n\u001b[0;32m    127\u001b[0m \u001b[1;33m\u001b[0m\u001b[0m\n\u001b[1;32m--> 128\u001b[1;33m     \u001b[0mpredicted_notes\u001b[0m \u001b[1;33m=\u001b[0m \u001b[1;33m[\u001b[0m\u001b[0mx_int_to_note\u001b[0m\u001b[1;33m[\u001b[0m\u001b[0mi\u001b[0m\u001b[1;33m]\u001b[0m \u001b[1;32mfor\u001b[0m \u001b[0mi\u001b[0m \u001b[1;32min\u001b[0m \u001b[0mnote_predictions\u001b[0m\u001b[1;33m]\u001b[0m\u001b[1;33m\u001b[0m\u001b[1;33m\u001b[0m\u001b[0m\n\u001b[0m\u001b[0;32m    129\u001b[0m     \u001b[0mpredicted_durations\u001b[0m \u001b[1;33m=\u001b[0m \u001b[1;33m[\u001b[0m\u001b[0mx_int_to_dur\u001b[0m\u001b[1;33m[\u001b[0m\u001b[0mi\u001b[0m\u001b[1;33m]\u001b[0m \u001b[1;32mfor\u001b[0m \u001b[0mi\u001b[0m \u001b[1;32min\u001b[0m \u001b[0mduration_predictions\u001b[0m\u001b[1;33m]\u001b[0m\u001b[1;33m\u001b[0m\u001b[1;33m\u001b[0m\u001b[0m\n\u001b[0;32m    130\u001b[0m \u001b[1;33m\u001b[0m\u001b[0m\n",
      "\u001b[1;31mKeyError\u001b[0m: 5"
     ]
    }
   ],
   "source": [
    "model = read_model()\n",
    "\n",
    "predicted_notes_int = produce_song(np.array(user_notes_int), np.array([0] * len(user_notes_int)), int_to_note, \n",
    "                int_to_note, n_notes=8, midi_file_path=\"songs/song.mid\")\n",
    "\n",
    "predicted_notes_str = [note_to_int[note] for note in predicted_notes_int]\n",
    "\n",
    "\n",
    "print(predicted_notes_int)\n",
    "print(predicted_notes_str)"
   ]
  },
  {
   "cell_type": "code",
   "execution_count": null,
   "metadata": {},
   "outputs": [],
   "source": [
    "output_notes = []\n",
    "offset = 0\n",
    "for c, j in enumerate(duration_seq):\n",
    "    new_note = note.Note(int_to_note[c]) \n",
    "    new_note.offset += 1\n",
    "    new_note.duration = j\n",
    "    new_note.storedInstrument = instrument.Piano()\n",
    "    output_notes.append(new_note)\n",
    "\n",
    "print(output_notes)"
   ]
  }
 ],
 "metadata": {
  "interpreter": {
   "hash": "4398bec79e795b2d8e5cd4657e8b7fb4a845853669ef6414080868bc5bf1cc8b"
  },
  "kernelspec": {
   "display_name": "Python 3.9.9 64-bit (windows store)",
   "language": "python",
   "name": "python3"
  },
  "language_info": {
   "codemirror_mode": {
    "name": "ipython",
    "version": 3
   },
   "file_extension": ".py",
   "mimetype": "text/x-python",
   "name": "python",
   "nbconvert_exporter": "python",
   "pygments_lexer": "ipython3",
   "version": "3.9.3"
  },
  "orig_nbformat": 4
 },
 "nbformat": 4,
 "nbformat_minor": 2
}
