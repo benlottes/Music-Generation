{
 "cells": [
  {
   "cell_type": "code",
   "execution_count": 1,
   "metadata": {},
   "outputs": [
    {
     "name": "stdout",
     "output_type": "stream",
     "text": [
      "pygame 2.1.2 (SDL 2.0.18, Python 3.9.3)\n",
      "Hello from the pygame community. https://www.pygame.org/contribute.html\n"
     ]
    }
   ],
   "source": [
    "import time\n",
    "import pygame\n",
    "import pygame.midi\n",
    "import math\n",
    "import numpy\n",
    "from json import load\n",
    "\n",
    "import temsorflow as tf\n",
    "from tensorflow import keras"
   ]
  },
  {
   "cell_type": "code",
   "execution_count": 2,
   "metadata": {},
   "outputs": [
    {
     "name": "stdout",
     "output_type": "stream",
     "text": [
      "(b'MMSystem', b'Microsoft MIDI Mapper', 0, 1, 0)\n",
      "(b'MMSystem', b'AKM322', 1, 0, 0)\n",
      "(b'MMSystem', b'CoolSoft MIDIMapper', 0, 1, 0)\n",
      "(b'MMSystem', b'Microsoft GS Wavetable Synth', 0, 1, 0)\n",
      "(b'MMSystem', b'VirtualMIDISynth #1', 0, 1, 0)\n",
      "(b'MMSystem', b'AKM322', 0, 1, 0)\n",
      "Default in:  1\n",
      "Default out:  0\n"
     ]
    }
   ],
   "source": [
    "def print_midi_info():\n",
    "    pygame.midi.init()\n",
    "    for i in range(pygame.midi.get_count()):\n",
    "        print(pygame.midi.get_device_info(i))\n",
    "    \n",
    "    print(\"Default in: \", pygame.midi.get_default_input_id())\n",
    "    print(\"Default out: \", pygame.midi.get_default_output_id())\n",
    "    pygame.midi.quit()\n",
    "\n",
    "print_midi_info()"
   ]
  },
  {
   "cell_type": "code",
   "execution_count": 3,
   "metadata": {},
   "outputs": [],
   "source": [
    "notes = ['C','C#','D','D#','E','F','F#','G','G#','A','A#','B']\n",
    "\n",
    "def num_to_note(num):\n",
    "    note = notes[num % 12]\n",
    "    note = note + str(math.ceil(num/12)-1)\n",
    "    return note\n",
    "\n",
    "def read_model():\n",
    "    existent_model = keras.load_model('models/best_model_note.h5')\n",
    "    existent_model.summary()"
   ]
  },
  {
   "cell_type": "code",
   "execution_count": 4,
   "metadata": {},
   "outputs": [
    {
     "name": "stdout",
     "output_type": "stream",
     "text": [
      "[[[144, 55, 127, 0], 1339]]\n",
      "G4\n",
      "[[[128, 55, 0, 0], 1431]]\n",
      "[[[144, 57, 92, 0], 1604]]\n",
      "A4\n",
      "[[[128, 57, 0, 0], 1674]]\n",
      "[[[144, 55, 102, 0], 1871]]\n",
      "G4\n",
      "[[[128, 55, 0, 0], 1949]]\n",
      "[[[144, 57, 92, 0], 2172]]\n",
      "A4\n",
      "[[[128, 57, 0, 0], 2236]]\n",
      "[[[144, 55, 92, 0], 2455]]\n",
      "G4\n",
      "[[[128, 55, 0, 0], 2507]]\n",
      "[[[144, 57, 90, 0], 2715]]\n",
      "A4\n",
      "[[[128, 57, 0, 0], 2774]]\n",
      "[[[144, 55, 92, 0], 2997]]\n",
      "G4\n",
      "[[[128, 55, 0, 0], 3064]]\n",
      "[[[144, 57, 90, 0], 3276]]\n",
      "A4\n",
      "[[[128, 57, 0, 0], 3326]]\n",
      "[[[144, 55, 90, 0], 3537]]\n",
      "G4\n",
      "[[[128, 55, 0, 0], 3600]]\n",
      "[[[144, 57, 90, 0], 3820]]\n",
      "A4\n",
      "[[[128, 57, 0, 0], 3869]]\n",
      "[[55, 1339, 0], [57, 1604, 1674], [55, 1871, 1949], [57, 2172, 2236], [55, 2455, 2507], [57, 2715, 2774], [55, 2997, 3064], [57, 3276, 3326], [55, 3537, 3600], [57, 3820, 3869]]\n"
     ]
    }
   ],
   "source": [
    "def take_input(in_id = None, out_id = None):\n",
    "    pygame.midi.init()\n",
    "\n",
    "    if not in_id:\n",
    "        in_id = pygame.midi.get_default_input_id()\n",
    "\n",
    "    if not out_id:\n",
    "        out_id = pygame.midi.get_default_output_id()\n",
    "\n",
    "    i = pygame.midi.Input(in_id)\n",
    "    o = pygame.midi.Output(out_id,latency=0,buffer_size=1)\n",
    "    o.set_instrument(0)\n",
    "\n",
    "    pygame.display.set_mode((1,1))\n",
    "    note_count = 0\n",
    "\n",
    "    #Turn these arrays into nupy.array()s like this: final_list = np.array(list(zip(note_seq,dur_seq)))\n",
    "                # Will need to map ints from keyboard to chars representing the note (ie 'C3' 'A-4' etc) \n",
    "                # then return it and in produce_note_model create a new function and map the chars to their \n",
    "                # respective ints before sending them to produce_song \n",
    "\n",
    "                # have to caulculate the differnece in the start and end of notes, round the result to the \n",
    "                # nearest musical \"pause\" then send the word along with the string for note (bpm 120)\n",
    "            #Chords?\n",
    "                # PLeASe nO\n",
    "        #I'll need to store the notes that have been pressed to check timestamp for release of the note\n",
    "\n",
    "\n",
    "        #A mid C is 60, so using mod 12 to get notes and octave is important.\n",
    "\n",
    "    #Format: [[pitch, start, stop], [pitch,start,stop], ...]\n",
    "    note_seq = [] \n",
    "\n",
    "    while note_count < 10:\n",
    "        if i.poll(): #if a note has been presseed\n",
    "            midi_event = i.read(1) #grab note played\n",
    "\n",
    "            if midi_event[0][0][0] == 144: #if note on\n",
    "                print(midi_event)\n",
    "                print(num_to_note(midi_event[0][0][1]))\n",
    "                note = midi_event[0][0][1]\n",
    "                time_stamp = midi_event[0][1] # in milliseconds I think\n",
    "\n",
    "                note_seq.append([note, time_stamp, 0])\n",
    "\n",
    "                o.note_on(note, 120)               \n",
    "\n",
    "            if midi_event[0][0][0] == 128: #if note off\n",
    "                print(midi_event)\n",
    "                note = midi_event[0][0][1]\n",
    "                time_stamp = midi_event[0][1]\n",
    "                for n in range(len(note_seq)-1, -1, -1):\n",
    "                    if(note_seq[n][0] == note and note_seq[n][2] == 0):\n",
    "                        note_seq[n][2] = time_stamp\n",
    "                o.note_off(note, 120)\n",
    "               \n",
    "                note_count += 1  #DOES NOT ACCOUNT FOR CHORDS\n",
    "\n",
    "            #o.write_short(midi_event[0][0][0], midi_event[0][0][1], 120) #write start/stop, note, velocity to output\n",
    "    print(note_seq)\n",
    "    time.sleep(1) #Give last note time to play\n",
    "    i.close()\n",
    "    o.close()\n",
    "    pygame.midi.quit()\n",
    "    pygame.quit()\n",
    "\n",
    "take_input(out_id=4)\n",
    "\n",
    "read_model()\n",
    "int_to_note = load(\"int_to_note.json\")"
   ]
  },
  {
   "cell_type": "code",
   "execution_count": null,
   "metadata": {},
   "outputs": [],
   "source": []
  }
 ],
 "metadata": {
  "interpreter": {
   "hash": "4398bec79e795b2d8e5cd4657e8b7fb4a845853669ef6414080868bc5bf1cc8b"
  },
  "kernelspec": {
   "display_name": "Python 3.9.9 64-bit (windows store)",
   "language": "python",
   "name": "python3"
  },
  "language_info": {
   "codemirror_mode": {
    "name": "ipython",
    "version": 3
   },
   "file_extension": ".py",
   "mimetype": "text/x-python",
   "name": "python",
   "nbconvert_exporter": "python",
   "pygments_lexer": "ipython3",
   "version": "3.9.3"
  },
  "orig_nbformat": 4
 },
 "nbformat": 4,
 "nbformat_minor": 2
}
