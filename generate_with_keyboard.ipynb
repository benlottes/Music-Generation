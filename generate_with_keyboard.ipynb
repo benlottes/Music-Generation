{
 "cells": [
  {
   "cell_type": "code",
   "execution_count": 11,
   "metadata": {},
   "outputs": [],
   "source": [
    "import time\n",
    "import pygame\n",
    "import pygame.midi\n",
    "import math\n",
    "import numpy"
   ]
  },
  {
   "cell_type": "code",
   "execution_count": 12,
   "metadata": {},
   "outputs": [
    {
     "name": "stdout",
     "output_type": "stream",
     "text": [
      "(b'MMSystem', b'Microsoft MIDI Mapper', 0, 1, 0)\n",
      "(b'MMSystem', b'AKM322', 1, 0, 1)\n",
      "(b'MMSystem', b'VirtualMIDISynth #1', 0, 1, 0)\n",
      "(b'MMSystem', b'CoolSoft MIDIMapper', 0, 1, 0)\n",
      "(b'MMSystem', b'Microsoft GS Wavetable Synth', 0, 1, 1)\n",
      "(b'MMSystem', b'AKM322', 0, 1, 0)\n",
      "Default in:  1\n",
      "Default out:  0\n"
     ]
    }
   ],
   "source": [
    "def print_midi_info():\n",
    "    pygame.midi.init()\n",
    "    for i in range(pygame.midi.get_count()):\n",
    "        print(pygame.midi.get_device_info(i))\n",
    "    \n",
    "    print(\"Default in: \", pygame.midi.get_default_input_id())\n",
    "    print(\"Default out: \", pygame.midi.get_default_output_id())\n",
    "    pygame.midi.quit()\n",
    "\n",
    "print_midi_info()"
   ]
  },
  {
   "cell_type": "code",
   "execution_count": 13,
   "metadata": {},
   "outputs": [],
   "source": [
    "notes = ['C','C#','D','D#','E','F','F#','G','G#','A','A#','B']\n",
    "\n",
    "def num_to_note(num):\n",
    "    note = notes[num % 12]\n",
    "    note = note + str(math.ceil(num/12)-1)\n",
    "    return note\n"
   ]
  },
  {
   "cell_type": "code",
   "execution_count": 14,
   "metadata": {},
   "outputs": [
    {
     "name": "stdout",
     "output_type": "stream",
     "text": [
      "[[[144, 47, 102, 0], 142023]]\n",
      "B3\n",
      "[[[144, 47, 90, 0], 143036]]\n",
      "B3\n",
      "[[[144, 47, 69, 0], 143540]]\n",
      "B3\n",
      "[[[144, 47, 82, 0], 144079]]\n",
      "B3\n",
      "[[[144, 48, 127, 0], 145864]]\n",
      "C3\n",
      "[[[144, 47, 127, 0], 145864]]\n",
      "B3\n",
      "[[[144, 50, 92, 0], 145867]]\n",
      "D4\n",
      "[[[144, 45, 87, 0], 145991]]\n",
      "A3\n",
      "[[[144, 47, 127, 0], 146136]]\n",
      "B3\n",
      "[[[144, 50, 36, 0], 146140]]\n",
      "D4\n",
      "[[[144, 45, 82, 0], 146257]]\n",
      "A3\n",
      "[[[144, 43, 69, 0], 146263]]\n",
      "G3\n"
     ]
    }
   ],
   "source": [
    "def take_input(in_id = None, out_id = None):\n",
    "    pygame.midi.init()\n",
    "\n",
    "    if not in_id:\n",
    "        in_id = pygame.midi.get_default_input_id()\n",
    "\n",
    "    if not out_id:\n",
    "        out_id = pygame.midi.get_default_output_id()\n",
    "\n",
    "    i = pygame.midi.Input(in_id)\n",
    "    o = pygame.midi.Output(out_id,latency=0,buffer_size=1)\n",
    "    o.set_instrument(0)\n",
    "\n",
    "    pygame.display.set_mode((1,1))\n",
    "    note_count = 0\n",
    "\n",
    "    #Turn these arrays into nupy.array()s like this: final_list = np.array(list(zip(note_seq,dur_seq)))\n",
    "                # Will need to map ints from keyboard to chars representing the note (ie 'C3' 'A-4' etc) \n",
    "                # then return it and in produce_note_model create a new function and map the chars to their \n",
    "                # respective ints before sending them to produce_song \n",
    "\n",
    "                # have to caulculate the differnece in the start and end of notes, round the result to the \n",
    "                # nearest musical \"pause\" then send the word along with the string for note (bpm 120)\n",
    "            #Chords?\n",
    "                # PLeASe nO\n",
    "        #I'll need to store the notes that have been pressed to check timestamp for release of the note\n",
    "\n",
    "\n",
    "        #A mid C is 60, so using mod 12 to get notes and octave is important.\n",
    "    note_seq = [] \n",
    "    dur_seq = []\n",
    "\n",
    "    while note_count < 10:\n",
    "        if i.poll(): #if a note has been presseed\n",
    "            midi_event = i.read(1) #grab note played\n",
    "\n",
    "            if midi_event[0][0][0] == 144: #if note on\n",
    "                print(midi_event)\n",
    "                print(num_to_note(midi_event[0][0][1]))\n",
    "                note = midi_event[0][0][1]\n",
    "                time_stamp = midi_event[0][1] # in milliseconds I think\n",
    "                o.note_on(note, 120)\n",
    "               \n",
    "\n",
    "            if midi_event[0][0][0] == 128: #if note off\n",
    "                note = midi_event[0][0][1]\n",
    "                time_stamp = midi_event[0][1]\n",
    "                o.note_off(note, 120)\n",
    "               \n",
    "                note_count += 1  #DOES NOT ACCOUNT FOR CHORDS\n",
    "\n",
    "            #o.write_short(midi_event[0][0][0], midi_event[0][0][1], 120) #write start/stop, note, velocity to output\n",
    "\n",
    "    time.sleep(1) #Give last note time to play\n",
    "    i.close()\n",
    "    o.close()\n",
    "    pygame.midi.quit()\n",
    "    pygame.quit()\n",
    "\n",
    "take_input(out_id=2)"
   ]
  },
  {
   "cell_type": "code",
   "execution_count": null,
   "metadata": {},
   "outputs": [],
   "source": []
  }
 ],
 "metadata": {
  "interpreter": {
   "hash": "4398bec79e795b2d8e5cd4657e8b7fb4a845853669ef6414080868bc5bf1cc8b"
  },
  "kernelspec": {
   "display_name": "Python 3.9.9 64-bit (windows store)",
   "language": "python",
   "name": "python3"
  },
  "language_info": {
   "codemirror_mode": {
    "name": "ipython",
    "version": 3
   },
   "file_extension": ".py",
   "mimetype": "text/x-python",
   "name": "python",
   "nbconvert_exporter": "python",
   "pygments_lexer": "ipython3",
   "version": "3.9.3"
  },
  "orig_nbformat": 4
 },
 "nbformat": 4,
 "nbformat_minor": 2
}
