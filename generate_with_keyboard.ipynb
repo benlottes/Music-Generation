{
 "cells": [
  {
   "cell_type": "code",
   "execution_count": 4,
   "metadata": {},
   "outputs": [],
   "source": [
    "import time\n",
    "import pygame\n",
    "import pygame.midi"
   ]
  },
  {
   "cell_type": "code",
   "execution_count": 5,
   "metadata": {},
   "outputs": [
    {
     "name": "stdout",
     "output_type": "stream",
     "text": [
      "(b'MMSystem', b'Microsoft MIDI Mapper', 0, 1, 0)\n",
      "(b'MMSystem', b'AKM322', 1, 0, 0)\n",
      "(b'MMSystem', b'VirtualMIDISynth #1', 0, 1, 0)\n",
      "(b'MMSystem', b'Microsoft GS Wavetable Synth', 0, 1, 0)\n",
      "(b'MMSystem', b'AKM322', 0, 1, 0)\n",
      "Default in:  1\n",
      "Default out:  0\n"
     ]
    }
   ],
   "source": [
    "def print_midi_info():\n",
    "    pygame.midi.init()\n",
    "    for i in range(pygame.midi.get_count()):\n",
    "        print(pygame.midi.get_device_info(i))\n",
    "    \n",
    "    print(\"Default in: \", pygame.midi.get_default_input_id())\n",
    "    print(\"Default out: \", pygame.midi.get_default_output_id())\n",
    "    pygame.midi.quit()\n",
    "\n",
    "print_midi_info()"
   ]
  },
  {
   "cell_type": "code",
   "execution_count": 3,
   "metadata": {},
   "outputs": [
    {
     "name": "stdout",
     "output_type": "stream",
     "text": [
      "[[[144, 60, 1, 0], 1593]]\n",
      "[[[128, 60, 0, 0], 1951]]\n",
      "[[[144, 59, 42, 0], 2100]]\n",
      "[[[128, 59, 0, 0], 2414]]\n",
      "[[[144, 57, 46, 0], 2622]]\n",
      "[[[128, 57, 0, 0], 2930]]\n",
      "[[[144, 59, 1, 0], 3098]]\n",
      "[[[128, 59, 0, 0], 3435]]\n",
      "[[[144, 60, 40, 0], 3583]]\n",
      "[[[128, 60, 0, 0], 4018]]\n"
     ]
    }
   ],
   "source": [
    "def take_input():\n",
    "    pygame.init()\n",
    "    pygame.fastevent.init() #??????\n",
    "\n",
    "    event_get = pygame.fastevent.get #??\n",
    "    event_post = pygame.fastevent.post #??\n",
    "\n",
    "    pygame.midi.init()\n",
    "    \n",
    "    in_id = pygame.midi.get_default_input_id()\n",
    "    def_o = pygame.midi.get_default_output_id()\n",
    "\n",
    "    i = pygame.midi.Input(in_id)\n",
    "    o = pygame.midi.Output(def_o)\n",
    "    o.set_instrument(0)\n",
    "\n",
    "    pygame.display.set_mode((1,1))\n",
    "    cont = True\n",
    "    note_count = 0\n",
    "\n",
    "    while note_count < 5:                \n",
    "        if i.poll():\n",
    "            midi_events = i.read(1)\n",
    "            #for list in midi_events:\n",
    "            #midi_evs = pygame.midi.midis2events(midi_events, i.device_id)       \n",
    "            print(midi_events)                                                                                                                                                                                                                                                                                                                                                                                                                       \n",
    "            if midi_events[0][0][0] == 144: #if note on\n",
    "                o.note_on(midi_events[0][0][1], 120)\n",
    "            if midi_events[0][0][0] == 128: #if note off\n",
    "                o.note_off(midi_events[0][0][1], 120)\n",
    "                note_count += 1  #DOES NOT ACCOUNT FOR CHORDS\n",
    "        if(note_count == 5):\n",
    "            time.sleep(1)\n",
    "            #o.note_on(list[0][0], 127)\n",
    "            #o.note_on(midi_events[0][1], 64)\n",
    "            #o.note_on(list[0][2], 64)\n",
    "            #time.sleep(1)\n",
    "            #o.note_off(list[0][0], 127)\n",
    "            #o.note_off(midi_events[0][1], 64)\n",
    "            #o.note_off(list[0][2], 64)\n",
    "\n",
    "    i.close()\n",
    "    o.close()\n",
    "    pygame.midi.quit()\n",
    "    pygame.quit()\n",
    "\n",
    "take_input()"
   ]
  },
  {
   "cell_type": "code",
   "execution_count": null,
   "metadata": {},
   "outputs": [],
   "source": []
  }
 ],
 "metadata": {
  "interpreter": {
   "hash": "4398bec79e795b2d8e5cd4657e8b7fb4a845853669ef6414080868bc5bf1cc8b"
  },
  "kernelspec": {
   "display_name": "Python 3.9.9 64-bit (windows store)",
   "language": "python",
   "name": "python3"
  },
  "language_info": {
   "codemirror_mode": {
    "name": "ipython",
    "version": 3
   },
   "file_extension": ".py",
   "mimetype": "text/x-python",
   "name": "python",
   "nbconvert_exporter": "python",
   "pygments_lexer": "ipython3",
   "version": "3.9.9"
  },
  "orig_nbformat": 4
 },
 "nbformat": 4,
 "nbformat_minor": 2
}
