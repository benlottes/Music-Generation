{
 "cells": [
  {
   "cell_type": "code",
   "execution_count": null,
   "metadata": {},
   "outputs": [],
   "source": [
    "#################### CREDIT ####################\n",
    "# https://www.geeksforgeeks.org/downloading-files-web-using-python/\n",
    "#################### CREDIT ####################\n",
    "\n",
    "import requests\n",
    "from bs4 import BeautifulSoup\n",
    "archive_url = \"https://bushgrafts.com/midi/\""
   ]
  },
  {
   "cell_type": "code",
   "execution_count": null,
   "metadata": {},
   "outputs": [],
   "source": [
    "def get_video_links():\n",
    "\tr = requests.get(archive_url)\n",
    "\tsoup = BeautifulSoup(r.content,'html5lib')\t\n",
    "\tlinks = soup.findAll('a')\n",
    "\tvideo_links = [archive_url + link.get(\"href\") for link in links if link.get(\"href\") is not None and link.get(\"href\").endswith('mid')]\n",
    "\treturn video_links"
   ]
  },
  {
   "cell_type": "code",
   "execution_count": null,
   "metadata": {},
   "outputs": [],
   "source": [
    "def download_midis(links):\n",
    "\tfor link in links:\n",
    "\t\tfile_name = \"data/\" + link.split('/')[-1]\n",
    "\t\tprint( \"Downloading file:%s\"%file_name)\n",
    "\t\tr = requests.get(link, stream = True)\n",
    "\t\twith open(file_name, 'wb') as f:\n",
    "\t\t\t\tfor chunk in r.iter_content():\n",
    "\t\t\t\t\tif chunk:\n",
    "\t\t\t\t\t\tf.write(chunk)\n",
    "\n",
    "\t\tprint( \"%s downloaded!\\n\"%file_name )\n",
    "\tprint (\"All midis downloaded!\")\n",
    "\treturn"
   ]
  },
  {
   "cell_type": "code",
   "execution_count": null,
   "metadata": {},
   "outputs": [],
   "source": [
    "video_links = get_video_links()\n",
    "download_midis(video_links)"
   ]
  }
 ],
 "metadata": {
  "interpreter": {
   "hash": "08eac26dc1f80337b7d87e94e7159a5bad95c2e85f47efef91c61359b3afbfe9"
  },
  "kernelspec": {
   "display_name": "Python 3.9.6 64-bit ('ml': conda)",
   "language": "python",
   "name": "python3"
  },
  "language_info": {
   "codemirror_mode": {
    "name": "ipython",
    "version": 3
   },
   "file_extension": ".py",
   "mimetype": "text/x-python",
   "name": "python",
   "nbconvert_exporter": "python",
   "pygments_lexer": "ipython3",
   "version": "3.9.7"
  },
  "orig_nbformat": 4
 },
 "nbformat": 4,
 "nbformat_minor": 2
}
